{
 "cells": [
  {
   "cell_type": "markdown",
   "source": [
    "# RAG + LLM"
   ],
   "metadata": {
    "collapsed": false
   },
   "id": "5c8a9a20e08fb353"
  },
  {
   "cell_type": "code",
   "execution_count": null,
   "id": "initial_id",
   "metadata": {
    "collapsed": true
   },
   "outputs": [],
   "source": [
    "import warnings\n",
    "warnings.filterwarnings(\"ignore\")\n",
    "from langchain_community.chat_models import ChatOllama\n",
    "from langchain_community.document_loaders import WebBaseLoader\n",
    "from langchain_community.document_loaders import PyPDFLoader,DirectoryLoader\n",
    "from langchain_community.embeddings import OllamaEmbeddings\n",
    "\n",
    "from langchain_community.embeddings import HuggingFaceEmbeddings\n",
    "from langchain_community.vectorstores import Chroma\n",
    "\n",
    "from langchain_text_splitters import CharacterTextSplitter,RecursiveCharacterTextSplitter\n",
    "from langchain.prompts import PromptTemplate\n",
    "from langchain.chains import create_retrieval_chain,RetrievalQA"
   ]
  },
  {
   "cell_type": "markdown",
   "source": [
    "## Prepare documents and split text"
   ],
   "metadata": {
    "collapsed": false
   },
   "id": "df88a49abb3f5efc"
  },
  {
   "cell_type": "code",
   "outputs": [],
   "source": [
    "\n",
    "data_folder = \"data\"\n",
    "file_filter = \"*.pdf\"\n",
    "\n",
    "loader = DirectoryLoader(data_folder, file_filter,loader_cls=PyPDFLoader)\n",
    "data = loader.load()\n",
    "# Split\n",
    "\n",
    "text_splitter = RecursiveCharacterTextSplitter(chunk_size=500, chunk_overlap=0)\n",
    "\n",
    "\n",
    "text_splitter = RecursiveCharacterTextSplitter(\n",
    "    separators=[\"\\n\\n\",\"\\n\"],\n",
    "    chunk_size=1000,\n",
    "    chunk_overlap=50,\n",
    "    length_function=len,\n",
    "    is_separator_regex=False,\n",
    ")\n",
    "all_splits = text_splitter.split_documents(data)\n",
    "\n",
    "\n",
    "# LLM\n",
    "# Select the LLM that you downloaded\n",
    "llm = ChatOllama()\n",
    "\n",
    "embeddings=HuggingFaceEmbeddings(model_name=\"sentence-transformers/all-mpnet-base-v2\")"
   ],
   "metadata": {
    "collapsed": false
   },
   "id": "55d44930cdb1a039"
  },
  {
   "cell_type": "markdown",
   "source": [
    "## Get vectorDB"
   ],
   "metadata": {
    "collapsed": false
   },
   "id": "82d55ef499ab018a"
  },
  {
   "cell_type": "code",
   "outputs": [],
   "source": [
    "# Add to vectorDB\n",
    "vectorstore = Chroma.from_documents(\n",
    "    documents=all_splits,\n",
    "    collection_name=\"rag-private\",\n",
    "    embedding=embeddings,\n",
    ")"
   ],
   "metadata": {
    "collapsed": false
   },
   "id": "415ca7efe449bf80"
  },
  {
   "cell_type": "code",
   "outputs": [],
   "source": [
    "len(vectorstore.get()[\"ids\"])"
   ],
   "metadata": {
    "collapsed": false
   },
   "id": "c103d694965ae10"
  },
  {
   "cell_type": "markdown",
   "source": [
    "## Retriever, template and chain"
   ],
   "metadata": {
    "collapsed": false
   },
   "id": "4f3a705d71376a96"
  },
  {
   "cell_type": "code",
   "outputs": [],
   "source": [
    "retriever = vectorstore.as_retriever()\n",
    "\n",
    "\n",
    "\n",
    "# Build prompt\n",
    "template = \"\"\"Use the following pieces of context to answer the question at the end. If you don't know the answer, just say that you don't know, don't try to make up an answer. Use three sentences maximum. Keep the answer as concise as possible. Always say \"thanks for asking!\" at the end of the answer.\n",
    "{context}\n",
    "Question: {question}\n",
    "Helpful Answer:\"\"\"\n",
    "QA_CHAIN_PROMPT = PromptTemplate.from_template(template)\n",
    "\n",
    "\n",
    "qa_chain=RetrievalQA.from_chain_type(llm,retriever=retriever,return_source_documents=True,chain_type_kwargs={\"prompt\":QA_CHAIN_PROMPT})"
   ],
   "metadata": {
    "collapsed": false
   },
   "id": "a7706ffeada1232b"
  },
  {
   "cell_type": "markdown",
   "source": [
    "## Get answers"
   ],
   "metadata": {
    "collapsed": false
   },
   "id": "338a611b0dab8303"
  },
  {
   "cell_type": "code",
   "outputs": [],
   "source": [
    "%%time\n",
    "question=\"Explain the GCNN architecture used in DEL dataset\"\n",
    "result = qa_chain.invoke({\"query\": question})\n",
    "print(result[\"result\"])"
   ],
   "metadata": {
    "collapsed": false
   },
   "id": "318a6668b76b5a45"
  },
  {
   "cell_type": "markdown",
   "source": [
    "## Get references"
   ],
   "metadata": {
    "collapsed": false
   },
   "id": "da3b35414c8e56e"
  },
  {
   "cell_type": "code",
   "outputs": [],
   "source": [
    "for i in range(len(result[\"source_documents\"])):\n",
    "    print(result[\"source_documents\"][i].metadata)"
   ],
   "metadata": {
    "collapsed": false
   },
   "id": "a2819f50ee82315a"
  }
 ],
 "metadata": {
  "kernelspec": {
   "display_name": "Python 3",
   "language": "python",
   "name": "python3"
  },
  "language_info": {
   "codemirror_mode": {
    "name": "ipython",
    "version": 2
   },
   "file_extension": ".py",
   "mimetype": "text/x-python",
   "name": "python",
   "nbconvert_exporter": "python",
   "pygments_lexer": "ipython2",
   "version": "2.7.6"
  }
 },
 "nbformat": 4,
 "nbformat_minor": 5
}
